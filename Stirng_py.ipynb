{
 "cells": [
  {
   "cell_type": "code",
   "execution_count": 1,
   "id": "a52f310f",
   "metadata": {},
   "outputs": [
    {
     "name": "stdout",
     "output_type": "stream",
     "text": [
      "What is Your Name?abhinav\n",
      "Enter Your Fav color:skyblue\n",
      "abhinav likes skyblue\n"
     ]
    }
   ],
   "source": [
    "name= input('What is Your Name?')\n",
    "favorite_color= input('Enter Your Fav color:')\n",
    "print(name + ' likes '+ favorite_color)"
   ]
  },
  {
   "cell_type": "code",
   "execution_count": 5,
   "id": "4f35f26c",
   "metadata": {},
   "outputs": [
    {
     "name": "stdout",
     "output_type": "stream",
     "text": [
      "enter the birth year:2002\n"
     ]
    }
   ],
   "source": [
    "by= input('enter the birth year:')\n",
    "age = int(2022 - int(by))"
   ]
  },
  {
   "cell_type": "code",
   "execution_count": 6,
   "id": "1139766b",
   "metadata": {},
   "outputs": [
    {
     "data": {
      "text/plain": [
       "20"
      ]
     },
     "execution_count": 6,
     "metadata": {},
     "output_type": "execute_result"
    }
   ],
   "source": [
    "age"
   ]
  },
  {
   "cell_type": "code",
   "execution_count": 9,
   "id": "e1c64db8",
   "metadata": {},
   "outputs": [
    {
     "data": {
      "text/plain": [
       "'2002'"
      ]
     },
     "execution_count": 9,
     "metadata": {},
     "output_type": "execute_result"
    }
   ],
   "source": [
    "by"
   ]
  },
  {
   "cell_type": "code",
   "execution_count": 10,
   "id": "73ca0418",
   "metadata": {},
   "outputs": [
    {
     "data": {
      "text/plain": [
       "str"
      ]
     },
     "execution_count": 10,
     "metadata": {},
     "output_type": "execute_result"
    }
   ],
   "source": [
    "type(by)"
   ]
  },
  {
   "cell_type": "code",
   "execution_count": 11,
   "id": "c9a799ef",
   "metadata": {},
   "outputs": [
    {
     "data": {
      "text/plain": [
       "int"
      ]
     },
     "execution_count": 11,
     "metadata": {},
     "output_type": "execute_result"
    }
   ],
   "source": [
    "by=int(by)\n",
    "type(by)"
   ]
  },
  {
   "cell_type": "code",
   "execution_count": 12,
   "id": "deaa1a88",
   "metadata": {},
   "outputs": [
    {
     "data": {
      "text/plain": [
       "'\\nmaking the conversion then saving it to the old address \\n'"
      ]
     },
     "execution_count": 12,
     "metadata": {},
     "output_type": "execute_result"
    }
   ],
   "source": [
    "'''\n",
    "making the conversion then saving it to the old address \n",
    "'''"
   ]
  },
  {
   "cell_type": "code",
   "execution_count": 13,
   "id": "0809ef9f",
   "metadata": {},
   "outputs": [
    {
     "name": "stdout",
     "output_type": "stream",
     "text": [
      "enter the weight in kilogram :230\n"
     ]
    },
    {
     "data": {
      "text/plain": [
       "103.5"
      ]
     },
     "execution_count": 13,
     "metadata": {},
     "output_type": "execute_result"
    }
   ],
   "source": [
    "#pound to kilogram converter\n",
    "wp=int(input('enter the weight in kilogram :'))\n",
    "wkg = wp*0.450\n",
    "wp\n",
    "wkg"
   ]
  },
  {
   "cell_type": "code",
   "execution_count": 22,
   "id": "2514b395",
   "metadata": {},
   "outputs": [
    {
     "data": {
      "text/plain": [
       "\"this is a 'special Course'\""
      ]
     },
     "execution_count": 22,
     "metadata": {},
     "output_type": "execute_result"
    }
   ],
   "source": [
    "# making the string work for us \n",
    "course= \"this is a 'special Course'\"\n",
    "course"
   ]
  },
  {
   "cell_type": "code",
   "execution_count": 23,
   "id": "a345a6ed",
   "metadata": {},
   "outputs": [
    {
     "data": {
      "text/plain": [
       "'this is a \"special Course\"'"
      ]
     },
     "execution_count": 23,
     "metadata": {},
     "output_type": "execute_result"
    }
   ],
   "source": [
    "course='this is a \"special Course\"'\n",
    "course"
   ]
  },
  {
   "cell_type": "code",
   "execution_count": 25,
   "id": "947680a3",
   "metadata": {},
   "outputs": [
    {
     "data": {
      "text/plain": [
       "\"\\nhi John Doe \\nthis is Abhinav from infinity Tech solutions\\nhope you're at good space and performing very well we wish you wanna to better and excell in \\nyour carrier with the integration with us you can accelarate your learning and grow as rapid as rocket float in no gravity \\ncome join us at infinity_Tech_solutions \\nThankyou \\nAbhinav Singh Bhardwaj \\nFounder \\ninfinity TEch Solutions \""
      ]
     },
     "execution_count": 25,
     "metadata": {},
     "output_type": "execute_result"
    }
   ],
   "source": [
    "# making mlt lines \n",
    "big_string= '''\n",
    "hi John Doe \n",
    "this is Abhinav from infinity Tech solutions\n",
    "hope you're at good space and performing very well we wish you wanna to better and excell in \n",
    "your carrier with the integration with us you can accelarate your learning and grow as rapid as rocket float in no gravity \n",
    "come join us at infinity_Tech_solutions \n",
    "Thankyou \n",
    "Abhinav Singh Bhardwaj \n",
    "Founder \n",
    "infinity TEch Solutions '''\n",
    "big_string"
   ]
  },
  {
   "cell_type": "code",
   "execution_count": 30,
   "id": "f059ca88",
   "metadata": {},
   "outputs": [
    {
     "data": {
      "text/plain": [
       "'S'"
      ]
     },
     "execution_count": 30,
     "metadata": {},
     "output_type": "execute_result"
    }
   ],
   "source": [
    "# this is for revers traversing the string \n",
    "big_string[-10]"
   ]
  },
  {
   "cell_type": "code",
   "execution_count": 31,
   "id": "c27dfb57",
   "metadata": {},
   "outputs": [
    {
     "data": {
      "text/plain": [
       "\"\\nhi John Doe \\nthis is Abhinav from infinity Tech solutions\\nhope you're at good space and performing very well we wish you wanna to better and excell in \\nyour carrier with the integration with us you can accelarate your learning and grow as rapid as rocket float in no gravity \\ncome join us at infinity_Tech_solutions \\nThankyou \\nAbhinav Singh Bhardwaj \\nFounder \\ninfinity TEch Solutions \""
      ]
     },
     "execution_count": 31,
     "metadata": {},
     "output_type": "execute_result"
    }
   ],
   "source": [
    "big_string[:]"
   ]
  },
  {
   "cell_type": "code",
   "execution_count": 32,
   "id": "b4c578e1",
   "metadata": {},
   "outputs": [
    {
     "data": {
      "text/plain": [
       "\"oe \\nthis is Abhinav from infinity Tech solutions\\nhope you're at good space and performing very well we wish you wanna to better and excell in \\nyour carrier with the integration with us you can accelarate your learning and grow as rapid as rocket float in no gravity \\ncome join us at infinity_Tech_solutions \\nThankyou \\nAbhinav Singh Bhardwaj \\nFounder \\ninfinity TEch Solutions \""
      ]
     },
     "execution_count": 32,
     "metadata": {},
     "output_type": "execute_result"
    }
   ],
   "source": [
    "big_string[10:]"
   ]
  },
  {
   "cell_type": "code",
   "execution_count": 33,
   "id": "7aed6088",
   "metadata": {},
   "outputs": [
    {
     "data": {
      "text/plain": [
       "\"\\nhi John Doe \\nthis is Abhinav from infinity Tech solutions\\nhope you're at good space and performing very well we wish you wanna to better and excell in \\nyour carrier with the integration with us you c\""
      ]
     },
     "execution_count": 33,
     "metadata": {},
     "output_type": "execute_result"
    }
   ],
   "source": [
    "big_string[:200]"
   ]
  },
  {
   "cell_type": "code",
   "execution_count": 34,
   "id": "ce2b2105",
   "metadata": {},
   "outputs": [
    {
     "data": {
      "text/plain": [
       "'ennife'"
      ]
     },
     "execution_count": 34,
     "metadata": {},
     "output_type": "execute_result"
    }
   ],
   "source": [
    "name = 'jennifer'\n",
    "name[1:-1]"
   ]
  },
  {
   "cell_type": "code",
   "execution_count": 36,
   "id": "d7154458",
   "metadata": {},
   "outputs": [
    {
     "data": {
      "text/plain": [
       "'[jennifer is a ]coder'"
      ]
     },
     "execution_count": 36,
     "metadata": {},
     "output_type": "execute_result"
    }
   ],
   "source": [
    "# dont forget to put the f' before the holes block like this \n",
    "coder= f'[{name} is a ]coder'\n",
    "coder"
   ]
  },
  {
   "cell_type": "code",
   "execution_count": 37,
   "id": "3a53da89",
   "metadata": {},
   "outputs": [
    {
     "data": {
      "text/plain": [
       "29"
      ]
     },
     "execution_count": 37,
     "metadata": {},
     "output_type": "execute_result"
    }
   ],
   "source": [
    "len(coder)+len(name)"
   ]
  },
  {
   "cell_type": "code",
   "execution_count": 38,
   "id": "9a31fb34",
   "metadata": {},
   "outputs": [
    {
     "data": {
      "text/plain": [
       "21"
      ]
     },
     "execution_count": 38,
     "metadata": {},
     "output_type": "execute_result"
    }
   ],
   "source": [
    "len(coder)"
   ]
  },
  {
   "cell_type": "code",
   "execution_count": 40,
   "id": "fb7cd83d",
   "metadata": {},
   "outputs": [
    {
     "data": {
      "text/plain": [
       "'[JENNIFER IS A ]CODER'"
      ]
     },
     "execution_count": 40,
     "metadata": {},
     "output_type": "execute_result"
    }
   ],
   "source": [
    "coder.upper()"
   ]
  },
  {
   "cell_type": "code",
   "execution_count": 41,
   "id": "9000af46",
   "metadata": {},
   "outputs": [
    {
     "data": {
      "text/plain": [
       "'[jennifer is a ]coder'"
      ]
     },
     "execution_count": 41,
     "metadata": {},
     "output_type": "execute_result"
    }
   ],
   "source": [
    "coder.lower()"
   ]
  },
  {
   "cell_type": "code",
   "execution_count": 44,
   "id": "8b7ad15e",
   "metadata": {},
   "outputs": [
    {
     "data": {
      "text/plain": [
       "13"
      ]
     },
     "execution_count": 44,
     "metadata": {},
     "output_type": "execute_result"
    }
   ],
   "source": [
    "# -1 indicates the char not present in the string \n",
    "coder.find('a')"
   ]
  },
  {
   "cell_type": "code",
   "execution_count": 45,
   "id": "8b3b27a3",
   "metadata": {},
   "outputs": [
    {
     "data": {
      "text/plain": [
       "16"
      ]
     },
     "execution_count": 45,
     "metadata": {},
     "output_type": "execute_result"
    }
   ],
   "source": [
    "# returns the index value of the beginning \n",
    "coder.find('coder')"
   ]
  },
  {
   "cell_type": "code",
   "execution_count": 48,
   "id": "c2af9421",
   "metadata": {},
   "outputs": [
    {
     "data": {
      "text/plain": [
       "'[jennifer is a ] doctor'"
      ]
     },
     "execution_count": 48,
     "metadata": {},
     "output_type": "execute_result"
    }
   ],
   "source": [
    "coder.replace('coder',' doctor')"
   ]
  },
  {
   "cell_type": "code",
   "execution_count": 52,
   "id": "c0a539e8",
   "metadata": {},
   "outputs": [
    {
     "name": "stdout",
     "output_type": "stream",
     "text": [
      "True\n"
     ]
    },
    {
     "data": {
      "text/plain": [
       "'[jennifer is a ]coder'"
      ]
     },
     "execution_count": 52,
     "metadata": {},
     "output_type": "execute_result"
    }
   ],
   "source": [
    "print('coder' in coder)\n",
    "coder"
   ]
  },
  {
   "cell_type": "code",
   "execution_count": 54,
   "id": "f5530b26",
   "metadata": {},
   "outputs": [
    {
     "data": {
      "text/plain": [
       "'[Jennifer Is A ]Coder'"
      ]
     },
     "execution_count": 54,
     "metadata": {},
     "output_type": "execute_result"
    }
   ],
   "source": [
    "coder.title()"
   ]
  },
  {
   "cell_type": "code",
   "execution_count": null,
   "id": "4070204b",
   "metadata": {},
   "outputs": [],
   "source": []
  }
 ],
 "metadata": {
  "kernelspec": {
   "display_name": "Python 3 (ipykernel)",
   "language": "python",
   "name": "python3"
  },
  "language_info": {
   "codemirror_mode": {
    "name": "ipython",
    "version": 3
   },
   "file_extension": ".py",
   "mimetype": "text/x-python",
   "name": "python",
   "nbconvert_exporter": "python",
   "pygments_lexer": "ipython3",
   "version": "3.9.7"
  }
 },
 "nbformat": 4,
 "nbformat_minor": 5
}
