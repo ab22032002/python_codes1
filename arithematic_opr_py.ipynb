{
 "cells": [
  {
   "cell_type": "code",
   "execution_count": 2,
   "id": "d6414081",
   "metadata": {},
   "outputs": [
    {
     "data": {
      "text/plain": [
       "10000000000"
      ]
     },
     "execution_count": 2,
     "metadata": {},
     "output_type": "execute_result"
    }
   ],
   "source": [
    "# this is for arithematic operator \n",
    "# special operator for calculating the powers\n",
    "x= 10**10\n",
    "x"
   ]
  },
  {
   "cell_type": "code",
   "execution_count": 4,
   "id": "7d6b3dd5",
   "metadata": {},
   "outputs": [
    {
     "data": {
      "text/plain": [
       "169350"
      ]
     },
     "execution_count": 4,
     "metadata": {},
     "output_type": "execute_result"
    }
   ],
   "source": [
    "# getting output as integer\n",
    "x//3**10"
   ]
  },
  {
   "cell_type": "code",
   "execution_count": 5,
   "id": "496748a4",
   "metadata": {},
   "outputs": [
    {
     "data": {
      "text/plain": [
       "3"
      ]
     },
     "execution_count": 5,
     "metadata": {},
     "output_type": "execute_result"
    }
   ],
   "source": [
    "# Math FUnctions \n",
    "x= 2.9\n",
    "round(x)"
   ]
  },
  {
   "cell_type": "code",
   "execution_count": 6,
   "id": "1c72353b",
   "metadata": {},
   "outputs": [
    {
     "data": {
      "text/plain": [
       "2.9"
      ]
     },
     "execution_count": 6,
     "metadata": {},
     "output_type": "execute_result"
    }
   ],
   "source": [
    "abs(-2.9)"
   ]
  },
  {
   "cell_type": "code",
   "execution_count": 9,
   "id": "ec47f837",
   "metadata": {},
   "outputs": [
    {
     "data": {
      "text/plain": [
       "12"
      ]
     },
     "execution_count": 9,
     "metadata": {},
     "output_type": "execute_result"
    }
   ],
   "source": [
    "# acting as modulous \n",
    "abs(-12)"
   ]
  },
  {
   "cell_type": "code",
   "execution_count": 10,
   "id": "6f712766",
   "metadata": {},
   "outputs": [
    {
     "data": {
      "text/plain": [
       "3"
      ]
     },
     "execution_count": 10,
     "metadata": {},
     "output_type": "execute_result"
    }
   ],
   "source": [
    "import math\n",
    "# python 3 math modules \n",
    "# https://docs.python.org/3/library/math.html\n",
    "math.ceil(2.9)"
   ]
  },
  {
   "cell_type": "code",
   "execution_count": 18,
   "id": "e1f9beec",
   "metadata": {},
   "outputs": [
    {
     "name": "stdout",
     "output_type": "stream",
     "text": [
      "its ok to not to be okay \n"
     ]
    }
   ],
   "source": [
    "y = math.floor(3.999)\n",
    "if y ==100:\n",
    "    print(\"its greater than Zero\")\n",
    "elif y>10:\n",
    "    print('its greater than 2 :')\n",
    "else:\n",
    "    print(\"its ok to not to be okay \")\n"
   ]
  },
  {
   "cell_type": "code",
   "execution_count": 19,
   "id": "4e59d325",
   "metadata": {},
   "outputs": [
    {
     "name": "stdout",
     "output_type": "stream",
     "text": [
      "put down 10%\n"
     ]
    }
   ],
   "source": [
    "# price of the house \n",
    "good_credit=True\n",
    "if good_credit== True:\n",
    "    print('put down 10%')\n",
    "else:\n",
    "    print('put down 20%')\n",
    "\n",
    "    "
   ]
  },
  {
   "cell_type": "code",
   "execution_count": 28,
   "id": "b1126a5c",
   "metadata": {},
   "outputs": [
    {
     "name": "stdout",
     "output_type": "stream",
     "text": [
      "weight90\n",
      "(L)bs or (K)g:l\n",
      "you weigh 199.8 pounds sir.\n",
      "thank you visit again :\n"
     ]
    }
   ],
   "source": [
    "weight = input('weight')\n",
    "unit= input('(L)bs or (K)g:')\n",
    "weight=int(weight)\n",
    "# converting to uppercase and then checking ::: \n",
    "if unit.upper()==\"K\":\n",
    "    weight*=0.45\n",
    "    print(f'you weigh {weight} kgs sir.')\n",
    "else:\n",
    "    weight*=2.22\n",
    "    print(f'you weigh {weight} pounds sir.')\n",
    "print('thank you visit again :')\n"
   ]
  },
  {
   "cell_type": "code",
   "execution_count": null,
   "id": "64821c70",
   "metadata": {},
   "outputs": [],
   "source": []
  }
 ],
 "metadata": {
  "kernelspec": {
   "display_name": "Python 3 (ipykernel)",
   "language": "python",
   "name": "python3"
  },
  "language_info": {
   "codemirror_mode": {
    "name": "ipython",
    "version": 3
   },
   "file_extension": ".py",
   "mimetype": "text/x-python",
   "name": "python",
   "nbconvert_exporter": "python",
   "pygments_lexer": "ipython3",
   "version": "3.9.7"
  }
 },
 "nbformat": 4,
 "nbformat_minor": 5
}
